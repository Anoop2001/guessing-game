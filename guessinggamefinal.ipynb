{
 "cells": [
  {
   "cell_type": "code",
   "execution_count": null,
   "metadata": {},
   "outputs": [],
   "source": []
  },
  {
   "cell_type": "code",
   "execution_count": null,
   "metadata": {},
   "outputs": [],
   "source": [
    "print('you lost the game the number is {}'.format(num))"
   ]
  },
  {
   "cell_type": "code",
   "execution_count": null,
   "metadata": {},
   "outputs": [],
   "source": [
    "print('you lost the game the number is {}'.format(num))"
   ]
  },
  {
   "cell_type": "code",
   "execution_count": null,
   "metadata": {},
   "outputs": [],
   "source": [
    "def main_comp(num,i):\n",
    "    if i==num:\n",
    "        return True\n",
    "    else:\n",
    "        return False\n",
    "\n",
    "def comp(i,num):\n",
    "    if i>num:\n",
    "        print(\"SMALLER THAN THIS\")\n",
    "    else:\n",
    "        print(\"GREATER THAN THIS\")\n",
    "\n",
    "def evod(i,num):\n",
    "    if num%2==0:\n",
    "        print(\"EVEN NUMBER IT IS\")\n",
    "    else:\n",
    "        print(\"ODD NUMBER IT IS\")\n",
    "    \n",
    "def finh(i,num):  \n",
    "    dif=num-i\n",
    "    if dif<0:\n",
    "        dif=(-1*dif)\n",
    "    print(\"you are +-{} around\".format(dif))\n",
    "\n",
    "    \n",
    "import random\n",
    "num=random.randint(1,20)\n",
    "turn=0\n",
    "score=30\n",
    "score_time=0\n",
    "\n",
    "print(\"HELLO WELCOME TO THE GUESSING GAME PRESS YES TON PLAY AND NO TO EXIT THE GAME\")\n",
    "yn=input()\n",
    "if yn.lower()=='no':\n",
    "    print(\"thanks for playing\")\n",
    "else:\n",
    "    print('guess a number between 1 to 20')\n",
    "    print('everytime you guess score goes down by 3 and everytime you ask for a hint your score get decreased by 10 and your initial score is 30 so you can ask for 3 hints only')\n",
    "    print('GO CREATE A HIGHSCORE')     \n",
    "\n",
    "while yn.lower()=='yes':    \n",
    "    \n",
    "        i=int(input())\n",
    "        a=main_comp(num,i)\n",
    "        \n",
    "        if a:\n",
    "            print('YOU WON YOUR SCORE IS {}'.format(score+50))\n",
    "            break  \n",
    "        \n",
    "        else:\n",
    "            print(\"that was not right for a hint type hint or for another guess type no\")\n",
    "            i_h=input()\n",
    "            \n",
    "            if i_h.lower()=='hint':\n",
    "                if score_time==0 and score>10:\n",
    "                    score_time=score_time+1\n",
    "                    score=score-10\n",
    "                    comp(i,num)\n",
    "                    continue\n",
    "                if score_time==1 and score>10:\n",
    "                    score_time=score_time+1\n",
    "                    score=score-10\n",
    "                    evod(i,num)\n",
    "                    continue\n",
    "                if score_time==2 and score>10:\n",
    "                    score_time=score_time+1\n",
    "                    score=score-10\n",
    "                    finh(i,num)\n",
    "                    continue\n",
    "                if score<10:\n",
    "                    print('dont have points for hint try without it')\n",
    "                if score==0:    \n",
    "                    print('you lost the game the number is {}'.format(num))\n",
    "                    break\n",
    "            elif i_h.lower()=='no':\n",
    "                score=score-2\n",
    "                if score>0:\n",
    "                    continue\n",
    "                else:\n",
    "                    print('you lost the game the number is {}'.format(num))                    \n",
    "                    break"
   ]
  },
  {
   "cell_type": "code",
   "execution_count": null,
   "metadata": {},
   "outputs": [],
   "source": []
  }
 ],
 "metadata": {
  "kernelspec": {
   "display_name": "Python 3",
   "language": "python",
   "name": "python3"
  },
  "language_info": {
   "codemirror_mode": {
    "name": "ipython",
    "version": 3
   },
   "file_extension": ".py",
   "mimetype": "text/x-python",
   "name": "python",
   "nbconvert_exporter": "python",
   "pygments_lexer": "ipython3",
   "version": "3.7.6"
  }
 },
 "nbformat": 4,
 "nbformat_minor": 4
}
